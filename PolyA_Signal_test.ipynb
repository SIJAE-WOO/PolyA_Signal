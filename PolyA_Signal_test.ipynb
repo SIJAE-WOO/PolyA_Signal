{
 "cells": [
  {
   "cell_type": "code",
   "execution_count": 1,
   "id": "dirty-convert",
   "metadata": {
    "execution": {
     "iopub.execute_input": "2022-04-28T04:29:47.867235Z",
     "iopub.status.busy": "2022-04-28T04:29:47.867142Z",
     "iopub.status.idle": "2022-04-28T04:29:47.868978Z",
     "shell.execute_reply": "2022-04-28T04:29:47.868676Z",
     "shell.execute_reply.started": "2022-04-28T04:29:47.867221Z"
    }
   },
   "outputs": [],
   "source": [
    "import sys\n",
    "sys.path.append('/home/sijaewoo/01_Tools/PolyA_Signal/')"
   ]
  },
  {
   "cell_type": "code",
   "execution_count": 2,
   "id": "consolidated-petersburg",
   "metadata": {
    "execution": {
     "iopub.execute_input": "2022-04-28T04:29:47.869474Z",
     "iopub.status.busy": "2022-04-28T04:29:47.869385Z",
     "iopub.status.idle": "2022-04-28T04:29:47.952422Z",
     "shell.execute_reply": "2022-04-28T04:29:47.952097Z",
     "shell.execute_reply.started": "2022-04-28T04:29:47.869462Z"
    }
   },
   "outputs": [],
   "source": [
    "from PolyA_Signal import *"
   ]
  },
  {
   "cell_type": "code",
   "execution_count": null,
   "id": "accompanied-wilderness",
   "metadata": {},
   "outputs": [],
   "source": []
  },
  {
   "cell_type": "code",
   "execution_count": 3,
   "id": "understanding-france",
   "metadata": {
    "execution": {
     "iopub.execute_input": "2022-04-28T04:30:05.867340Z",
     "iopub.status.busy": "2022-04-28T04:30:05.867113Z",
     "iopub.status.idle": "2022-04-28T04:30:05.894608Z",
     "shell.execute_reply": "2022-04-28T04:30:05.894279Z",
     "shell.execute_reply.started": "2022-04-28T04:30:05.867314Z"
    }
   },
   "outputs": [
    {
     "data": {
      "text/plain": [
       "[('chr11:10838927-10838927', '-', '0.9985'),\n",
       " ('chr11:10838932-10838932', '-', '0.9998'),\n",
       " ('chr11:10838934-10838934', '-', '1.0000')]"
      ]
     },
     "execution_count": 3,
     "metadata": {},
     "output_type": "execute_result"
    }
   ],
   "source": [
    "PolyA_Signal('11:10838980-10838980')"
   ]
  },
  {
   "cell_type": "code",
   "execution_count": 4,
   "id": "intended-pulse",
   "metadata": {
    "execution": {
     "iopub.execute_input": "2022-04-28T04:30:22.515619Z",
     "iopub.status.busy": "2022-04-28T04:30:22.515392Z",
     "iopub.status.idle": "2022-04-28T04:30:22.528389Z",
     "shell.execute_reply": "2022-04-28T04:30:22.528099Z",
     "shell.execute_reply.started": "2022-04-28T04:30:22.515593Z"
    }
   },
   "outputs": [
    {
     "data": {
      "text/plain": [
       "[('chr1:944202-944220', '-', 'NOC2L', '1', 'UTR3')]"
      ]
     },
     "execution_count": 4,
     "metadata": {},
     "output_type": "execute_result"
    }
   ],
   "source": [
    "PolyA_Signal('1:944220-944220', data='APADB')"
   ]
  },
  {
   "cell_type": "code",
   "execution_count": null,
   "id": "accurate-lawsuit",
   "metadata": {},
   "outputs": [],
   "source": []
  }
 ],
 "metadata": {
  "kernelspec": {
   "display_name": "Python .conda-jklab",
   "language": "python",
   "name": "conda-env-.conda-jklab-py"
  },
  "language_info": {
   "codemirror_mode": {
    "name": "ipython",
    "version": 3
   },
   "file_extension": ".py",
   "mimetype": "text/x-python",
   "name": "python",
   "nbconvert_exporter": "python",
   "pygments_lexer": "ipython3",
   "version": "3.7.7"
  },
  "widgets": {
   "application/vnd.jupyter.widget-state+json": {
    "state": {},
    "version_major": 2,
    "version_minor": 0
   }
  }
 },
 "nbformat": 4,
 "nbformat_minor": 5
}
